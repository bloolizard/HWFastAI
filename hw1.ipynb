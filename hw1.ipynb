{
 "cells": [
  {
   "cell_type": "code",
   "execution_count": 20,
   "metadata": {
    "collapsed": true
   },
   "outputs": [],
   "source": [
    "%matplotlib inline"
   ]
  },
  {
   "cell_type": "code",
   "execution_count": 21,
   "metadata": {
    "collapsed": true
   },
   "outputs": [],
   "source": [
    "path = \"/home/ubuntu/nbs/data/dogs-vs-cats-redux-kernels-edition/sample/\""
   ]
  },
  {
   "cell_type": "code",
   "execution_count": 22,
   "metadata": {
    "collapsed": true
   },
   "outputs": [],
   "source": [
    "from __future__ import division, print_function\n",
    "\n",
    "import os, json\n",
    "from glob import glob\n",
    "import numpy as np\n",
    "np.set_printoptions(precision=4, linewidth=100)\n",
    "from matplotlib import pyplot as plt"
   ]
  },
  {
   "cell_type": "code",
   "execution_count": 23,
   "metadata": {
    "collapsed": false
   },
   "outputs": [
    {
     "name": "stdout",
     "output_type": "stream",
     "text": [
      "/home/ubuntu/nbs\n"
     ]
    },
    {
     "name": "stderr",
     "output_type": "stream",
     "text": [
      "Using gpu device 0: Tesla K80 (CNMeM is disabled, cuDNN 5103)\n",
      "/home/ubuntu/anaconda2/lib/python2.7/site-packages/theano/sandbox/cuda/__init__.py:600: UserWarning: Your cuDNN version is more recent than the one Theano officially supports. If you see any problems, try updating Theano or downgrading cuDNN to version 5.\n",
      "  warnings.warn(warn)\n",
      "Using Theano backend.\n"
     ]
    }
   ],
   "source": [
    "% cd \"/home/ubuntu/nbs\"\n",
    "import utils; reload(utils)\n",
    "from utils import plots"
   ]
  },
  {
   "cell_type": "code",
   "execution_count": 24,
   "metadata": {
    "collapsed": true
   },
   "outputs": [],
   "source": [
    "batch_size = 64"
   ]
  },
  {
   "cell_type": "code",
   "execution_count": 25,
   "metadata": {
    "collapsed": false
   },
   "outputs": [],
   "source": [
    "import vgg16; reload(vgg16)\n",
    "from vgg16 import Vgg16"
   ]
  },
  {
   "cell_type": "code",
   "execution_count": 7,
   "metadata": {
    "collapsed": false
   },
   "outputs": [
    {
     "name": "stdout",
     "output_type": "stream",
     "text": [
      "/home/ubuntu/nbs/data/dogs-vs-cats-redux-kernels-edition/train\n"
     ]
    }
   ],
   "source": [
    "% cd \"/home/ubuntu/nbs/data/dogs-vs-cats-redux-kernels-edition/train\""
   ]
  },
  {
   "cell_type": "code",
   "execution_count": 10,
   "metadata": {
    "collapsed": false
   },
   "outputs": [],
   "source": [
    "# create sample set for train cats \n",
    "from shutil import copyfile\n",
    "g = glob('cat*.jpg')\n",
    "shut = np.random.permutation(g)\n",
    "for i in range(200): copyfile(shut[i], '../sample/train/cats/' + shut[i])\n",
    "\n"
   ]
  },
  {
   "cell_type": "code",
   "execution_count": 9,
   "metadata": {
    "collapsed": true
   },
   "outputs": [],
   "source": [
    "# create sample set for train dogs\n",
    "from shutil import copyfile\n",
    "g = glob('dog*.jpg')\n",
    "shut = np.random.permutation(g)\n",
    "for i in range(200): copyfile(shut[i], '../sample/train/dogs/' + shut[i])"
   ]
  },
  {
   "cell_type": "code",
   "execution_count": null,
   "metadata": {
    "collapsed": true
   },
   "outputs": [],
   "source": [
    "# create sample set for valid cats \n",
    "from shutil import copyfile\n",
    "g = glob('cat*.jpg')\n",
    "shut = np.random.permutation(g)\n",
    "for i in range(20): copyfile(shut[i], '../sample/valid/cats/' + shut[i])"
   ]
  },
  {
   "cell_type": "code",
   "execution_count": null,
   "metadata": {
    "collapsed": true
   },
   "outputs": [],
   "source": [
    "# create sample set for valid dogs \n",
    "from shutil import copyfile\n",
    "g = glob('dog*.jpg')\n",
    "shut = np.random.permutation(g)\n",
    "for i in range(20): copyfile(shut[i], '../sample/valid/dogs/' + shut[i])"
   ]
  },
  {
   "cell_type": "code",
   "execution_count": 26,
   "metadata": {
    "collapsed": false
   },
   "outputs": [
    {
     "name": "stdout",
     "output_type": "stream",
     "text": [
      "/home/ubuntu/nbs\n",
      "Found 400 images belonging to 2 classes.\n",
      "Found 40 images belonging to 2 classes.\n",
      "Epoch 1/1\n",
      "400/400 [==============================] - 11s - loss: 1.2241 - acc: 0.7000 - val_loss: 0.8260 - val_acc: 0.7500\n"
     ]
    }
   ],
   "source": [
    "% cd \"/home/ubuntu/nbs\"\n",
    "\n",
    "vgg = Vgg16()\n",
    "batches = vgg.get_batches(path + 'train', batch_size=batch_size)\n",
    "val_batches = vgg.get_batches(path + 'valid', batch_size=batch_size*2)\n",
    "vgg.finetune(batches)\n",
    "vgg.fit(batches, val_batches, nb_epoch=1)"
   ]
  },
  {
   "cell_type": "code",
   "execution_count": 27,
   "metadata": {
    "collapsed": false
   },
   "outputs": [],
   "source": [
    "imgs, labels = next(batches)"
   ]
  },
  {
   "cell_type": "code",
   "execution_count": 28,
   "metadata": {
    "collapsed": false
   },
   "outputs": [
    {
     "data": {
      "text/plain": [
       "array([[[[ 135.,  135.,  134., ...,  162.,  175.,  179.],\n",
       "         [ 136.,  140.,  143., ...,  164.,  175.,  178.],\n",
       "         [ 138.,  140.,  140., ...,  164.,  175.,  165.],\n",
       "         ..., \n",
       "         [  83.,   81.,   57., ...,  130.,  130.,  130.],\n",
       "         [  29.,   24.,   13., ...,  130.,  130.,  130.],\n",
       "         [  24.,   20.,    7., ...,  130.,  130.,  130.]],\n",
       "\n",
       "        [[ 118.,  118.,  117., ...,  145.,  158.,  165.],\n",
       "         [ 119.,  123.,  126., ...,  147.,  158.,  164.],\n",
       "         [ 121.,  123.,  123., ...,  147.,  158.,  151.],\n",
       "         ..., \n",
       "         [ 101.,   99.,   71., ...,  110.,  110.,  110.],\n",
       "         [  47.,   40.,   27., ...,  110.,  110.,  110.],\n",
       "         [  37.,   33.,   19., ...,  110.,  110.,  110.]],\n",
       "\n",
       "        [[ 111.,  111.,  110., ...,  138.,  151.,  178.],\n",
       "         [ 112.,  116.,  119., ...,  140.,  151.,  177.],\n",
       "         [ 114.,  116.,  116., ...,  140.,  151.,  164.],\n",
       "         ..., \n",
       "         [  85.,   83.,   58., ...,  112.,  112.,  112.],\n",
       "         [  31.,   27.,   14., ...,  112.,  112.,  112.],\n",
       "         [  27.,   23.,    9., ...,  112.,  112.,  112.]]],\n",
       "\n",
       "\n",
       "       [[[ 165.,  122.,  135., ...,  115.,  136.,  131.],\n",
       "         [ 162.,  146.,  110., ...,  111.,  134.,  130.],\n",
       "         [ 142.,  120.,  100., ...,  108.,  129.,  126.],\n",
       "         ..., \n",
       "         [  56.,   62.,   54., ...,   33.,   31.,   33.],\n",
       "         [  64.,   80.,   69., ...,   34.,   33.,   32.],\n",
       "         [  79.,   73.,   64., ...,   33.,   32.,   32.]],\n",
       "\n",
       "        [[ 154.,  112.,  131., ...,  108.,  129.,  129.],\n",
       "         [ 151.,  136.,  106., ...,  104.,  127.,  128.],\n",
       "         [ 130.,  111.,   95., ...,  101.,  122.,  124.],\n",
       "         ..., \n",
       "         [  44.,   52.,   44., ...,   24.,   22.,   24.],\n",
       "         [  52.,   70.,   59., ...,   25.,   24.,   23.],\n",
       "         [  67.,   63.,   54., ...,   24.,   23.,   23.]],\n",
       "\n",
       "        [[ 148.,  110.,  132., ...,  124.,  145.,  151.],\n",
       "         [ 145.,  134.,  107., ...,  120.,  143.,  150.],\n",
       "         [ 130.,  112.,   99., ...,  117.,  138.,  146.],\n",
       "         ..., \n",
       "         [  46.,   53.,   45., ...,   27.,   25.,   25.],\n",
       "         [  54.,   71.,   60., ...,   28.,   27.,   24.],\n",
       "         [  69.,   64.,   55., ...,   27.,   26.,   24.]]],\n",
       "\n",
       "\n",
       "       [[[ 245.,  245.,  245., ...,  108.,  103.,  105.],\n",
       "         [ 245.,  245.,  245., ...,  110.,  104.,  103.],\n",
       "         [ 245.,  245.,  245., ...,  110.,  105.,  109.],\n",
       "         ..., \n",
       "         [ 230.,  230.,  230., ...,   74.,   79.,   84.],\n",
       "         [ 230.,  230.,  230., ...,   69.,   73.,   72.],\n",
       "         [ 230.,  230.,  230., ...,   72.,   77.,   75.]],\n",
       "\n",
       "        [[ 242.,  242.,  242., ...,   87.,   79.,   83.],\n",
       "         [ 242.,  242.,  242., ...,   86.,   80.,   82.],\n",
       "         [ 242.,  242.,  242., ...,   87.,   82.,   85.],\n",
       "         ..., \n",
       "         [ 227.,  227.,  227., ...,   73.,   78.,   77.],\n",
       "         [ 227.,  227.,  227., ...,   68.,   72.,   67.],\n",
       "         [ 227.,  227.,  227., ...,   68.,   73.,   71.]],\n",
       "\n",
       "        [[ 223.,  223.,  223., ...,   58.,   51.,   59.],\n",
       "         [ 223.,  223.,  223., ...,   58.,   52.,   55.],\n",
       "         [ 223.,  223.,  223., ...,   56.,   51.,   57.],\n",
       "         ..., \n",
       "         [ 208.,  208.,  208., ...,   68.,   73.,   58.],\n",
       "         [ 208.,  208.,  208., ...,   64.,   68.,   48.],\n",
       "         [ 208.,  208.,  208., ...,   57.,   62.,   59.]]],\n",
       "\n",
       "\n",
       "       ..., \n",
       "       [[[ 185.,  185.,  165., ...,  171.,  172.,  179.],\n",
       "         [ 181.,  185.,  185., ...,  166.,  174.,  173.],\n",
       "         [ 201.,  206.,  207., ...,  155.,  156.,  159.],\n",
       "         ..., \n",
       "         [  23.,   21.,   63., ...,  218.,  215.,  151.],\n",
       "         [  32.,    2.,   54., ...,  244.,  227.,  130.],\n",
       "         [  22.,   14.,   55., ...,  246.,  233.,  183.]],\n",
       "\n",
       "        [[ 170.,  170.,  155., ...,  147.,  147.,  154.],\n",
       "         [ 168.,  174.,  176., ...,  145.,  151.,  150.],\n",
       "         [ 194.,  199.,  204., ...,  138.,  137.,  140.],\n",
       "         ..., \n",
       "         [  21.,   19.,   62., ...,  204.,  199.,  138.],\n",
       "         [  30.,    0.,   53., ...,  232.,  215.,  121.],\n",
       "         [  20.,   12.,   53., ...,  239.,  226.,  176.]],\n",
       "\n",
       "        [[ 163.,  163.,  145., ...,  143.,  142.,  149.],\n",
       "         [ 162.,  168.,  167., ...,  140.,  145.,  144.],\n",
       "         [ 188.,  193.,  197., ...,  131.,  130.,  133.],\n",
       "         ..., \n",
       "         [  22.,   20.,   58., ...,  191.,  183.,  121.],\n",
       "         [  33.,    1.,   49., ...,  220.,  201.,  106.],\n",
       "         [  21.,   13.,   54., ...,  233.,  220.,  166.]]],\n",
       "\n",
       "\n",
       "       [[[  39.,   28.,   31., ...,  109.,  101.,   90.],\n",
       "         [  21.,   15.,   20., ...,  113.,  103.,   88.],\n",
       "         [  15.,   17.,    4., ...,  105.,   99.,   89.],\n",
       "         ..., \n",
       "         [  75.,   77.,   80., ...,  131.,  131.,  135.],\n",
       "         [  73.,   74.,   78., ...,  130.,  129.,  132.],\n",
       "         [  72.,   73.,   75., ...,  126.,  128.,  134.]],\n",
       "\n",
       "        [[  35.,   24.,   30., ...,   66.,   63.,   62.],\n",
       "         [  17.,   12.,   19., ...,   70.,   66.,   60.],\n",
       "         [  12.,   14.,    3., ...,   67.,   64.,   60.],\n",
       "         ..., \n",
       "         [  50.,   52.,   55., ...,  155.,  155.,  159.],\n",
       "         [  48.,   49.,   53., ...,  154.,  153.,  156.],\n",
       "         [  47.,   48.,   50., ...,  150.,  152.,  158.]],\n",
       "\n",
       "        [[  49.,   38.,   36., ...,   47.,   44.,   41.],\n",
       "         [  31.,   23.,   25., ...,   51.,   47.,   39.],\n",
       "         [  23.,   25.,    9., ...,   48.,   45.,   42.],\n",
       "         ..., \n",
       "         [  45.,   47.,   50., ...,  183.,  183.,  185.],\n",
       "         [  43.,   44.,   48., ...,  182.,  181.,  184.],\n",
       "         [  42.,   43.,   45., ...,  178.,  180.,  186.]]],\n",
       "\n",
       "\n",
       "       [[[ 200.,  198.,  195., ...,   75.,   73.,   74.],\n",
       "         [ 200.,  197.,  194., ...,   70.,   68.,   70.],\n",
       "         [ 198.,  196.,  193., ...,   73.,   71.,   73.],\n",
       "         ..., \n",
       "         [  37.,   38.,   39., ...,   19.,   19.,   20.],\n",
       "         [  39.,   40.,   40., ...,   21.,   21.,   20.],\n",
       "         [  40.,   40.,   40., ...,   23.,   23.,   22.]],\n",
       "\n",
       "        [[ 216.,  214.,  211., ...,   64.,   62.,   61.],\n",
       "         [ 216.,  213.,  210., ...,   59.,   57.,   57.],\n",
       "         [ 214.,  212.,  209., ...,   60.,   58.,   60.],\n",
       "         ..., \n",
       "         [  39.,   40.,   41., ...,   22.,   22.,   23.],\n",
       "         [  41.,   42.,   42., ...,   24.,   24.,   23.],\n",
       "         [  42.,   42.,   42., ...,   26.,   26.,   25.]],\n",
       "\n",
       "        [[ 229.,  227.,  224., ...,   44.,   42.,   42.],\n",
       "         [ 229.,  226.,  223., ...,   39.,   37.,   38.],\n",
       "         [ 227.,  225.,  222., ...,   41.,   39.,   41.],\n",
       "         ..., \n",
       "         [  54.,   55.,   56., ...,   31.,   31.,   32.],\n",
       "         [  56.,   57.,   57., ...,   33.,   33.,   32.],\n",
       "         [  57.,   57.,   57., ...,   35.,   35.,   34.]]]])"
      ]
     },
     "execution_count": 28,
     "metadata": {},
     "output_type": "execute_result"
    }
   ],
   "source": [
    "imgs"
   ]
  },
  {
   "cell_type": "code",
   "execution_count": 16,
   "metadata": {
    "collapsed": false
   },
   "outputs": [
    {
     "data": {
      "text/plain": [
       "(array([ 0.7081,  1.    ,  0.9999,  0.9999,  0.9985,  1.    ,  0.775 ,  0.9999,  0.9692,  0.9981,\n",
       "         0.9994,  0.9141,  0.9975,  0.9992,  0.996 ,  1.    ,  0.9978,  0.9983,  0.6976,  0.9986,\n",
       "         0.9961,  0.9808,  0.9997,  0.9991,  1.    ,  0.9989,  1.    ,  0.9827,  0.9987,  0.9998,\n",
       "         0.7334,  0.7989], dtype=float32),\n",
       " array([1, 0, 0, 0, 0, 0, 1, 0, 0, 0, 0, 1, 0, 0, 1, 0, 1, 1, 1, 0, 1, 1, 0, 1, 0, 0, 0, 1, 1, 0, 1,\n",
       "        1]),\n",
       " [u'goldfish',\n",
       "  u'tench',\n",
       "  u'tench',\n",
       "  u'tench',\n",
       "  u'tench',\n",
       "  u'tench',\n",
       "  u'goldfish',\n",
       "  u'tench',\n",
       "  u'tench',\n",
       "  u'tench',\n",
       "  u'tench',\n",
       "  u'goldfish',\n",
       "  u'tench',\n",
       "  u'tench',\n",
       "  u'goldfish',\n",
       "  u'tench',\n",
       "  u'goldfish',\n",
       "  u'goldfish',\n",
       "  u'goldfish',\n",
       "  u'tench',\n",
       "  u'goldfish',\n",
       "  u'goldfish',\n",
       "  u'tench',\n",
       "  u'goldfish',\n",
       "  u'tench',\n",
       "  u'tench',\n",
       "  u'tench',\n",
       "  u'goldfish',\n",
       "  u'goldfish',\n",
       "  u'tench',\n",
       "  u'goldfish',\n",
       "  u'goldfish'])"
      ]
     },
     "execution_count": 16,
     "metadata": {},
     "output_type": "execute_result"
    }
   ],
   "source": [
    "vgg.predict(imgs, True)"
   ]
  },
  {
   "cell_type": "code",
   "execution_count": 18,
   "metadata": {
    "collapsed": false
   },
   "outputs": [
    {
     "data": {
      "text/plain": [
       "32"
      ]
     },
     "execution_count": 18,
     "metadata": {},
     "output_type": "execute_result"
    }
   ],
   "source": [
    "len(imgs)"
   ]
  },
  {
   "cell_type": "code",
   "execution_count": 29,
   "metadata": {
    "collapsed": false
   },
   "outputs": [
    {
     "data": {
      "text/plain": [
       "[u'tench', u'goldfish', u'great_white_shark', u'tiger_shark']"
      ]
     },
     "execution_count": 29,
     "metadata": {},
     "output_type": "execute_result"
    }
   ],
   "source": [
    "vgg.classes[:4]"
   ]
  },
  {
   "cell_type": "code",
   "execution_count": 30,
   "metadata": {
    "collapsed": false
   },
   "outputs": [
    {
     "data": {
      "text/plain": [
       "array([[[ 135.,  135.,  134., ...,  162.,  175.,  179.],\n",
       "        [ 136.,  140.,  143., ...,  164.,  175.,  178.],\n",
       "        [ 138.,  140.,  140., ...,  164.,  175.,  165.],\n",
       "        ..., \n",
       "        [  83.,   81.,   57., ...,  130.,  130.,  130.],\n",
       "        [  29.,   24.,   13., ...,  130.,  130.,  130.],\n",
       "        [  24.,   20.,    7., ...,  130.,  130.,  130.]],\n",
       "\n",
       "       [[ 118.,  118.,  117., ...,  145.,  158.,  165.],\n",
       "        [ 119.,  123.,  126., ...,  147.,  158.,  164.],\n",
       "        [ 121.,  123.,  123., ...,  147.,  158.,  151.],\n",
       "        ..., \n",
       "        [ 101.,   99.,   71., ...,  110.,  110.,  110.],\n",
       "        [  47.,   40.,   27., ...,  110.,  110.,  110.],\n",
       "        [  37.,   33.,   19., ...,  110.,  110.,  110.]],\n",
       "\n",
       "       [[ 111.,  111.,  110., ...,  138.,  151.,  178.],\n",
       "        [ 112.,  116.,  119., ...,  140.,  151.,  177.],\n",
       "        [ 114.,  116.,  116., ...,  140.,  151.,  164.],\n",
       "        ..., \n",
       "        [  85.,   83.,   58., ...,  112.,  112.,  112.],\n",
       "        [  31.,   27.,   14., ...,  112.,  112.,  112.],\n",
       "        [  27.,   23.,    9., ...,  112.,  112.,  112.]]])"
      ]
     },
     "execution_count": 30,
     "metadata": {},
     "output_type": "execute_result"
    }
   ],
   "source": [
    "imgs[0]"
   ]
  },
  {
   "cell_type": "code",
   "execution_count": null,
   "metadata": {
    "collapsed": true
   },
   "outputs": [],
   "source": []
  }
 ],
 "metadata": {
  "anaconda-cloud": {},
  "kernelspec": {
   "display_name": "Python [conda root]",
   "language": "python",
   "name": "conda-root-py"
  },
  "language_info": {
   "codemirror_mode": {
    "name": "ipython",
    "version": 2
   },
   "file_extension": ".py",
   "mimetype": "text/x-python",
   "name": "python",
   "nbconvert_exporter": "python",
   "pygments_lexer": "ipython2",
   "version": "2.7.12"
  }
 },
 "nbformat": 4,
 "nbformat_minor": 1
}
